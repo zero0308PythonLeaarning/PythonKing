{
 "cells": [
  {
   "cell_type": "markdown",
   "metadata": {},
   "source": [
    "## Python 的特色\n",
    "\n",
    "* Interpreted language\n",
    "* Object Oriented\n",
    "* 具有 Garbage collection\n",
    "* Open Source"
   ]
  },
  {
   "cell_type": "markdown",
   "metadata": {},
   "source": [
    "## 認識變數與基本數學運算"
   ]
  },
  {
   "cell_type": "code",
   "execution_count": 3,
   "metadata": {},
   "outputs": [
    {
     "data": {
      "text/plain": [
       "960"
      ]
     },
     "execution_count": 3,
     "metadata": {},
     "output_type": "execute_result"
    }
   ],
   "source": [
    "# 時薪120，一天工作8小時\n",
    "\n",
    "120 * 8"
   ]
  },
  {
   "cell_type": "code",
   "execution_count": 2,
   "metadata": {},
   "outputs": [
    {
     "data": {
      "text/plain": [
       "288000"
      ]
     },
     "execution_count": 2,
     "metadata": {},
     "output_type": "execute_result"
    }
   ],
   "source": [
    "# 時薪120，一天工作8小時，一年工作300天\n",
    "\n",
    "120 * 8 * 300"
   ]
  },
  {
   "cell_type": "code",
   "execution_count": 4,
   "metadata": {},
   "outputs": [
    {
     "data": {
      "text/plain": [
       "180000"
      ]
     },
     "execution_count": 4,
     "metadata": {},
     "output_type": "execute_result"
    }
   ],
   "source": [
    "# 時薪120，一天工作8小時，一年工作300天 ，一個月花9000，那可以存多少錢\n",
    "\n",
    "(120 * 8 * 300) - (9000 * 12)"
   ]
  },
  {
   "cell_type": "code",
   "execution_count": 5,
   "metadata": {},
   "outputs": [
    {
     "name": "stdout",
     "output_type": "stream",
     "text": [
      "120\n",
      "125\n"
     ]
    }
   ],
   "source": [
    "# 如果今天時薪調高了每一行重寫會很麻煩，引入變數的觀念\n",
    "\n",
    "x = 120\n",
    "print(x)\n",
    "\n",
    "x = 125\n",
    "print(x)"
   ]
  },
  {
   "cell_type": "code",
   "execution_count": 8,
   "metadata": {},
   "outputs": [
    {
     "name": "stdout",
     "output_type": "stream",
     "text": [
      "300000\n",
      "192000\n"
     ]
    }
   ],
   "source": [
    "# 利用變數 annual_salary 來存一年的收入\n",
    "\n",
    "hourly_salary = 125\n",
    "annual_salary = x * 8 * 300\n",
    "print(annual_salary)\n",
    "\n",
    "\n",
    "# 利用變數 month_fee代表每月花費 變數 annual_saving代表可以存的錢\n",
    "\n",
    "month_fee = 9000\n",
    "annual_saving = annual_salary - month_fee * 12\n",
    "print(annual_saving)"
   ]
  },
  {
   "cell_type": "markdown",
   "metadata": {},
   "source": [
    "### 變數命名的原則\n",
    "\n",
    "* 建議使用英文字母開頭\n",
    "* 變數名稱只能由英文字母、數字、_(底線)所組成\n",
    "* 大小寫有所區別\n",
    "* Python 系統保留字不可以使用\n",
    "* 當包含兩個英文單字時，文字用_(底線)連接"
   ]
  },
  {
   "cell_type": "markdown",
   "metadata": {},
   "source": [
    "### 基本數學運算"
   ]
  },
  {
   "cell_type": "code",
   "execution_count": 9,
   "metadata": {},
   "outputs": [
    {
     "name": "stdout",
     "output_type": "stream",
     "text": [
      "11\n",
      "-1\n",
      "30\n",
      "0.8333333333333334\n"
     ]
    }
   ],
   "source": [
    "# 加減乘除\n",
    "\n",
    "x = 5 + 6\n",
    "print(x)\n",
    "\n",
    "x = 5 - 6\n",
    "print(x)\n",
    "\n",
    "x = 5 * 6\n",
    "print(x)\n",
    "\n",
    "x = 5 / 6\n",
    "print(x)"
   ]
  },
  {
   "cell_type": "code",
   "execution_count": 11,
   "metadata": {},
   "outputs": [
    {
     "name": "stdout",
     "output_type": "stream",
     "text": [
      "4\n",
      "1\n"
     ]
    }
   ],
   "source": [
    "# 餘數和整除\n",
    "\n",
    "x = 9 % 5       # 求餘數\n",
    "print(x)\n",
    "\n",
    "x = 9 // 5      # 求整除\n",
    "print(x)"
   ]
  },
  {
   "cell_type": "code",
   "execution_count": 12,
   "metadata": {},
   "outputs": [
    {
     "name": "stdout",
     "output_type": "stream",
     "text": [
      "32\n"
     ]
    }
   ],
   "source": [
    "# 求次方\n",
    "\n",
    "x = 2 ** 5       \n",
    "print(x)\n"
   ]
  },
  {
   "cell_type": "markdown",
   "metadata": {},
   "source": [
    "### 等號的多重指定\n"
   ]
  },
  {
   "cell_type": "code",
   "execution_count": 13,
   "metadata": {},
   "outputs": [
    {
     "name": "stdout",
     "output_type": "stream",
     "text": [
      "10\n",
      "10\n",
      "10\n"
     ]
    }
   ],
   "source": [
    "x = y = z = 10\n",
    "print(x)\n",
    "print(y)\n",
    "print(z)"
   ]
  },
  {
   "cell_type": "code",
   "execution_count": 16,
   "metadata": {},
   "outputs": [
    {
     "name": "stdout",
     "output_type": "stream",
     "text": [
      "10 20 30\n"
     ]
    }
   ],
   "source": [
    "x, y, z = 10, 20, 30\n",
    "print(x, y, z)"
   ]
  },
  {
   "cell_type": "code",
   "execution_count": 17,
   "metadata": {},
   "outputs": [
    {
     "name": "stdout",
     "output_type": "stream",
     "text": [
      "20 10\n"
     ]
    }
   ],
   "source": [
    "# 變數的交換\n",
    "x, y = 10, 20\n",
    "x, y = y, x\n",
    "print(x, y)\n"
   ]
  },
  {
   "cell_type": "markdown",
   "metadata": {},
   "source": [
    "### 刪除變數"
   ]
  },
  {
   "cell_type": "code",
   "execution_count": 18,
   "metadata": {},
   "outputs": [
    {
     "name": "stdout",
     "output_type": "stream",
     "text": [
      "10\n"
     ]
    },
    {
     "ename": "NameError",
     "evalue": "name 'x' is not defined",
     "output_type": "error",
     "traceback": [
      "\u001b[1;31m---------------------------------------------------------------------------\u001b[0m",
      "\u001b[1;31mNameError\u001b[0m                                 Traceback (most recent call last)",
      "\u001b[1;32m<ipython-input-18-bf0520f7aa22>\u001b[0m in \u001b[0;36m<module>\u001b[1;34m\u001b[0m\n\u001b[0;32m      3\u001b[0m \u001b[1;33m\u001b[0m\u001b[0m\n\u001b[0;32m      4\u001b[0m \u001b[1;32mdel\u001b[0m \u001b[0mx\u001b[0m\u001b[1;33m\u001b[0m\u001b[1;33m\u001b[0m\u001b[0m\n\u001b[1;32m----> 5\u001b[1;33m \u001b[0mprint\u001b[0m\u001b[1;33m(\u001b[0m\u001b[0mx\u001b[0m\u001b[1;33m)\u001b[0m\u001b[1;33m\u001b[0m\u001b[1;33m\u001b[0m\u001b[0m\n\u001b[0m",
      "\u001b[1;31mNameError\u001b[0m: name 'x' is not defined"
     ]
    }
   ],
   "source": [
    "x = 10\n",
    "print(x)\n",
    "\n",
    "del x \n",
    "print(x)"
   ]
  },
  {
   "cell_type": "markdown",
   "metadata": {},
   "source": [
    "### Python的斷行"
   ]
  },
  {
   "cell_type": "code",
   "execution_count": 19,
   "metadata": {},
   "outputs": [
    {
     "name": "stdout",
     "output_type": "stream",
     "text": [
      "42\n"
     ]
    }
   ],
   "source": [
    "a = b = c = 10\n",
    "x = a + b + c + 12\n",
    "print(x)"
   ]
  },
  {
   "cell_type": "code",
   "execution_count": 20,
   "metadata": {},
   "outputs": [
    {
     "name": "stdout",
     "output_type": "stream",
     "text": [
      "42\n"
     ]
    }
   ],
   "source": [
    "# 方法一\n",
    "y = a +\\\n",
    "    b +\\\n",
    "    c +\\\n",
    "    12\n",
    "print(y)"
   ]
  },
  {
   "cell_type": "code",
   "execution_count": 21,
   "metadata": {},
   "outputs": [
    {
     "name": "stdout",
     "output_type": "stream",
     "text": [
      "42\n"
     ]
    }
   ],
   "source": [
    "# 方法二\n",
    "z = ( a +\n",
    "      b +\n",
    "      c +\n",
    "      12 )\n",
    "print(z)"
   ]
  },
  {
   "cell_type": "markdown",
   "metadata": {},
   "source": [
    "### 複利計算\n",
    "\n",
    "本金和 = 本金 * (1+年利率)^n (n是年份)\n",
    "\n",
    "你有50000，年利率1.5% ， 請計算五年後的本利和"
   ]
  },
  {
   "cell_type": "code",
   "execution_count": 22,
   "metadata": {},
   "outputs": [
    {
     "name": "stdout",
     "output_type": "stream",
     "text": [
      "本金和是:\n",
      "53864.20019421873\n"
     ]
    }
   ],
   "source": [
    "money = 50000 * ( 1 + 0.015) ** 5\n",
    "print(\"本金和是:\")\n",
    "print(money)"
   ]
  },
  {
   "cell_type": "markdown",
   "metadata": {},
   "source": [
    "### 計算圓面積與周長\n",
    "\n",
    "假設圓半徑是5公分，圓面積與圓周長計算公式分別如下:\n",
    "\n",
    "圓面積 = PI * r * r\n",
    "\n",
    "圓周長 = 2 * PI * r"
   ]
  },
  {
   "cell_type": "code",
   "execution_count": 23,
   "metadata": {},
   "outputs": [
    {
     "name": "stdout",
     "output_type": "stream",
     "text": [
      "圓面積:\n",
      "78.53975\n",
      "圓周長:\n",
      "31.4159\n"
     ]
    }
   ],
   "source": [
    "PI = 3.14159\n",
    "r = 5\n",
    "print(\"圓面積:\")\n",
    "area = PI * r * r\n",
    "print(area)\n",
    "\n",
    "print(\"圓周長:\")\n",
    "circurference = 2 * PI * r \n",
    "print(circurference)\n",
    "\n"
   ]
  },
  {
   "cell_type": "code",
   "execution_count": null,
   "metadata": {},
   "outputs": [],
   "source": []
  }
 ],
 "metadata": {
  "kernelspec": {
   "display_name": "Python 3",
   "language": "python",
   "name": "python3"
  },
  "language_info": {
   "codemirror_mode": {
    "name": "ipython",
    "version": 3
   },
   "file_extension": ".py",
   "mimetype": "text/x-python",
   "name": "python",
   "nbconvert_exporter": "python",
   "pygments_lexer": "ipython3",
   "version": "3.7.6"
  }
 },
 "nbformat": 4,
 "nbformat_minor": 4
}
