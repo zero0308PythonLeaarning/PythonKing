{
 "cells": [
  {
   "cell_type": "markdown",
   "metadata": {},
   "source": [
    "## Python 的基本資料型態"
   ]
  },
  {
   "cell_type": "markdown",
   "metadata": {},
   "source": [
    "### type()函數"
   ]
  },
  {
   "cell_type": "code",
   "execution_count": 1,
   "metadata": {},
   "outputs": [
    {
     "name": "stdout",
     "output_type": "stream",
     "text": [
      "10\n",
      "<class 'int'>\n",
      "3.3333333333333335\n",
      "<class 'float'>\n"
     ]
    }
   ],
   "source": [
    "x = 10\n",
    "y = x / 3\n",
    "print(x)\n",
    "print(type(x))\n",
    "print(y)\n",
    "print(type(y))"
   ]
  },
  {
   "cell_type": "markdown",
   "metadata": {},
   "source": [
    "### 數值資料型態\n",
    "\n",
    "* 整數int : 一般來說整數是用32位元儲存，Python3 中已經沒有長度限制\n",
    "* 浮點數float"
   ]
  },
  {
   "cell_type": "code",
   "execution_count": 2,
   "metadata": {},
   "outputs": [
    {
     "name": "stdout",
     "output_type": "stream",
     "text": [
      "10\n",
      "<class 'int'>\n",
      "15.5\n",
      "<class 'float'>\n"
     ]
    }
   ],
   "source": [
    "# 整數與浮點數做運算會先將整數轉為浮點數再做運算\n",
    "\n",
    "x = 10\n",
    "y = x + 5.5\n",
    "print(x)\n",
    "print(type(x))\n",
    "print(y)\n",
    "print(type(y))"
   ]
  },
  {
   "cell_type": "code",
   "execution_count": 4,
   "metadata": {},
   "outputs": [
    {
     "name": "stdout",
     "output_type": "stream",
     "text": [
      "13\n",
      "0b1101\n"
     ]
    }
   ],
   "source": [
    "# 2進位整數與函數bin()\n",
    "x = 0b1101\n",
    "print(x)\n",
    "y = 13\n",
    "print(bin(y))"
   ]
  },
  {
   "cell_type": "code",
   "execution_count": 6,
   "metadata": {},
   "outputs": [
    {
     "name": "stdout",
     "output_type": "stream",
     "text": [
      "47\n",
      "0o57\n"
     ]
    }
   ],
   "source": [
    "# 8進位整數與函數oct()\n",
    "\n",
    "x = 0o57\n",
    "print(x)\n",
    "y = 47\n",
    "print(oct(y))"
   ]
  },
  {
   "cell_type": "code",
   "execution_count": 7,
   "metadata": {},
   "outputs": [
    {
     "name": "stdout",
     "output_type": "stream",
     "text": [
      "93\n",
      "0x5d\n"
     ]
    }
   ],
   "source": [
    "# 16進位整數與函數hex()\n",
    "\n",
    "x = 0x5d\n",
    "print(x)\n",
    "y = 93\n",
    "print(hex(y))"
   ]
  },
  {
   "cell_type": "code",
   "execution_count": 10,
   "metadata": {},
   "outputs": [
    {
     "name": "stdout",
     "output_type": "stream",
     "text": [
      "-10 10\n",
      "5**3 125\n",
      "47.5 48\n",
      "48.5 48\n",
      "49.5 50\n",
      "2.15 2.1\n",
      "2.25 2.2\n",
      "2.151 2.2\n",
      "2.251 2.3\n"
     ]
    }
   ],
   "source": [
    "# abs()、 pow(x, y)、 round()、 round(x,n)\n",
    "\n",
    "x = -10\n",
    "print(x, abs(x))\n",
    "\n",
    "x = 5\n",
    "y = 3\n",
    "print(\"5**3\", pow(x, y))\n",
    "\n",
    "x = 47.5\n",
    "print(x, round(x))\n",
    "\n",
    "x = 48.5\n",
    "print(x, round(x))\n",
    "\n",
    "x = 49.5\n",
    "print(x, round(x))\n",
    "\n",
    "x = 2.15\n",
    "print(x, round(x, 1))\n",
    "\n",
    "x = 2.25\n",
    "print(x, round(x, 1))\n",
    "\n",
    "x = 2.151\n",
    "print(x, round(x, 1))\n",
    "\n",
    "x = 2.251\n",
    "print(x, round(x, 1))"
   ]
  },
  {
   "cell_type": "markdown",
   "metadata": {},
   "source": [
    "### 科學記號表示法\n",
    "\n"
   ]
  },
  {
   "cell_type": "code",
   "execution_count": 11,
   "metadata": {},
   "outputs": [
    {
     "name": "stdout",
     "output_type": "stream",
     "text": [
      "123456.0\n",
      "0.000123\n"
     ]
    }
   ],
   "source": [
    "x = 1.23456E+5\n",
    "print(x)\n",
    "\n",
    "y = 1.23E-4\n",
    "print(y)"
   ]
  },
  {
   "cell_type": "markdown",
   "metadata": {},
   "source": [
    "## 布林值\n",
    "\n",
    "以下情況會被視為False，其他都會視為True\n",
    "\n",
    "* False\n",
    "* 0\n",
    "* 0.0\n",
    "* ' '\n",
    "* []\n",
    "* {}\n",
    "* ()\n",
    "* set()\n",
    "* None"
   ]
  },
  {
   "cell_type": "code",
   "execution_count": 12,
   "metadata": {},
   "outputs": [
    {
     "name": "stdout",
     "output_type": "stream",
     "text": [
      "True\n",
      "False\n"
     ]
    }
   ],
   "source": [
    "x = True\n",
    "print(x)\n",
    "\n",
    "y = False\n",
    "print(y)"
   ]
  },
  {
   "cell_type": "markdown",
   "metadata": {},
   "source": [
    "### 字串的連接"
   ]
  },
  {
   "cell_type": "code",
   "execution_count": 13,
   "metadata": {},
   "outputs": [
    {
     "data": {
      "text/plain": [
       "'222333'"
      ]
     },
     "execution_count": 13,
     "metadata": {},
     "output_type": "execute_result"
    }
   ],
   "source": [
    "num1 = '222'\n",
    "num2 = '333'\n",
    "num3 = num1 + num2\n",
    "num3"
   ]
  },
  {
   "cell_type": "markdown",
   "metadata": {},
   "source": [
    "### 處理多於一行的字串"
   ]
  },
  {
   "cell_type": "code",
   "execution_count": 19,
   "metadata": {},
   "outputs": [
    {
     "name": "stdout",
     "output_type": "stream",
     "text": [
      " In the most significant and symbolic signthat it's over for Trump \n",
      "--------------------------------------------------------------------------------\n",
      "In the most significant and symbolic sign\n",
      "that it's over for Trump \n"
     ]
    }
   ],
   "source": [
    "str1 = \" In the most significant and symbolic sign\\\n",
    "that it's over for Trump \"\n",
    "\n",
    "\n",
    "str2 = '''In the most significant and symbolic sign\n",
    "that it's over for Trump ''' \n",
    "\n",
    "print(str1)\n",
    "\n",
    "print(\"-\" * 80)\n",
    "\n",
    "print(str2)\n"
   ]
  },
  {
   "cell_type": "markdown",
   "metadata": {},
   "source": [
    "### str( )的三種用法\n",
    "\n",
    "* 設定空字串\n",
    "* 設定字串\n",
    "* 強制轉換成字串型態"
   ]
  },
  {
   "cell_type": "code",
   "execution_count": 21,
   "metadata": {},
   "outputs": [
    {
     "data": {
      "text/plain": [
       "''"
      ]
     },
     "execution_count": 21,
     "metadata": {},
     "output_type": "execute_result"
    }
   ],
   "source": [
    "# 設定空字串\n",
    "x = str()\n",
    "x"
   ]
  },
  {
   "cell_type": "code",
   "execution_count": 22,
   "metadata": {},
   "outputs": [
    {
     "data": {
      "text/plain": [
       "'ABC'"
      ]
     },
     "execution_count": 22,
     "metadata": {},
     "output_type": "execute_result"
    }
   ],
   "source": [
    "# 設定字串\n",
    "x = str('ABC')\n",
    "x"
   ]
  },
  {
   "cell_type": "code",
   "execution_count": 23,
   "metadata": {},
   "outputs": [
    {
     "data": {
      "text/plain": [
       "'123'"
      ]
     },
     "execution_count": 23,
     "metadata": {},
     "output_type": "execute_result"
    }
   ],
   "source": [
    "# 強制轉換成字串型態\n",
    "x = 123\n",
    "y = str(x)\n",
    "y"
   ]
  },
  {
   "cell_type": "markdown",
   "metadata": {},
   "source": [
    "### 字串與字元"
   ]
  },
  {
   "cell_type": "code",
   "execution_count": 25,
   "metadata": {},
   "outputs": [
    {
     "data": {
      "text/plain": [
       "3"
      ]
     },
     "execution_count": 25,
     "metadata": {},
     "output_type": "execute_result"
    }
   ],
   "source": [
    "# 字串轉成bytes資料\n",
    "\n",
    "string = 'abc'\n",
    "len(string)"
   ]
  },
  {
   "cell_type": "code",
   "execution_count": 28,
   "metadata": {},
   "outputs": [
    {
     "name": "stdout",
     "output_type": "stream",
     "text": [
      "3\n",
      "<class 'bytes'>\n"
     ]
    },
    {
     "data": {
      "text/plain": [
       "b'abc'"
      ]
     },
     "execution_count": 28,
     "metadata": {},
     "output_type": "execute_result"
    }
   ],
   "source": [
    "stringBytes = string.encode('utf-8')\n",
    "print(len(stringBytes))\n",
    "print(type(stringBytes))\n",
    "stringBytes"
   ]
  },
  {
   "cell_type": "code",
   "execution_count": 29,
   "metadata": {},
   "outputs": [
    {
     "data": {
      "text/plain": [
       "3"
      ]
     },
     "execution_count": 29,
     "metadata": {},
     "output_type": "execute_result"
    }
   ],
   "source": [
    "name = '蔡宗霖'\n",
    "len(name)"
   ]
  },
  {
   "cell_type": "code",
   "execution_count": 31,
   "metadata": {},
   "outputs": [
    {
     "name": "stdout",
     "output_type": "stream",
     "text": [
      "9\n",
      "<class 'bytes'>\n"
     ]
    },
    {
     "data": {
      "text/plain": [
       "b'\\xe8\\x94\\xa1\\xe5\\xae\\x97\\xe9\\x9c\\x96'"
      ]
     },
     "execution_count": 31,
     "metadata": {},
     "output_type": "execute_result"
    }
   ],
   "source": [
    "nameBytes = name.encode('utf-8')\n",
    "print(len(nameBytes))\n",
    "print(type(nameBytes))\n",
    "nameBytes"
   ]
  },
  {
   "cell_type": "code",
   "execution_count": 33,
   "metadata": {},
   "outputs": [
    {
     "name": "stdout",
     "output_type": "stream",
     "text": [
      "3\n"
     ]
    },
    {
     "data": {
      "text/plain": [
       "'蔡宗霖'"
      ]
     },
     "execution_count": 33,
     "metadata": {},
     "output_type": "execute_result"
    }
   ],
   "source": [
    "nameUcode = nameBytes.decode('utf-8')\n",
    "print(len(nameUcode))\n",
    "nameUcode"
   ]
  },
  {
   "cell_type": "markdown",
   "metadata": {},
   "source": [
    "### 計算地球到月球的時間\n",
    "\n",
    "地球到月球約384000公里，假設火箭速度是一馬赫(1225公里/小時)問需要幾天幾小時可以到月球(省略分鐘)"
   ]
  },
  {
   "cell_type": "code",
   "execution_count": 38,
   "metadata": {},
   "outputs": [
    {
     "name": "stdout",
     "output_type": "stream",
     "text": [
      "所需天數: 13\n",
      "所需小時: 1\n"
     ]
    }
   ],
   "source": [
    "dist = 384400\n",
    "speed = 1225\n",
    "total_hour = dist // speed\n",
    "days = total_hour // 24\n",
    "hour = total_hour % 24\n",
    "\n",
    "print(\"所需天數:\", days)\n",
    "print(\"所需小時:\", hour)"
   ]
  },
  {
   "cell_type": "markdown",
   "metadata": {},
   "source": [
    "## 計算兩點座標軸\n",
    "\n",
    "(1,8)與(3,10)兩點的距離"
   ]
  },
  {
   "cell_type": "code",
   "execution_count": 42,
   "metadata": {},
   "outputs": [
    {
     "name": "stdout",
     "output_type": "stream",
     "text": [
      "兩點之間距離: 2.8284271247461903\n"
     ]
    }
   ],
   "source": [
    "X1 = 1\n",
    "Y1 = 8\n",
    "X2 = 3\n",
    "Y2 = 10\n",
    "\n",
    "dist = (((X1 - X2) ** 2) + ((Y1 - Y2) ** 2)) ** (1/2)\n",
    "\n",
    "print(\"兩點之間距離:\", dist)\n"
   ]
  },
  {
   "cell_type": "code",
   "execution_count": null,
   "metadata": {},
   "outputs": [],
   "source": []
  }
 ],
 "metadata": {
  "kernelspec": {
   "display_name": "Python 3",
   "language": "python",
   "name": "python3"
  },
  "language_info": {
   "codemirror_mode": {
    "name": "ipython",
    "version": 3
   },
   "file_extension": ".py",
   "mimetype": "text/x-python",
   "name": "python",
   "nbconvert_exporter": "python",
   "pygments_lexer": "ipython3",
   "version": "3.7.6"
  }
 },
 "nbformat": 4,
 "nbformat_minor": 4
}
